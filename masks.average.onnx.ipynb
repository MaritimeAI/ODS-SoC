{
  "nbformat": 4,
  "nbformat_minor": 0,
  "metadata": {
    "colab": {
      "name": "Копия блокнота \"Копия блокнота \"Averaging Masks.ipynb\"\"",
      "private_outputs": true,
      "provenance": [],
      "collapsed_sections": []
    },
    "kernelspec": {
      "name": "python3",
      "display_name": "Python 3"
    },
    "language_info": {
      "name": "python"
    }
  },
  "cells": [
    {
      "cell_type": "code",
      "metadata": {
        "id": "kT71H_szNGka"
      },
      "source": [
        "from os import path as osp\n",
        "\n",
        "from google.colab import drive\n",
        "\n",
        "\n",
        "PATH_DRIVE = osp.join('/', 'content', 'drive')\n",
        "\n",
        "# Do not mount if it is already attached\n",
        "if not osp.exists(PATH_DRIVE):\n",
        "    print(\"Mounting Google Drive...\")\n",
        "    drive.mount(PATH_DRIVE)\n",
        "else:\n",
        "    print(\"Google Drive has been already mounted!\")"
      ],
      "execution_count": null,
      "outputs": []
    },
    {
      "cell_type": "markdown",
      "metadata": {
        "id": "Xj_UMvFWxw_S"
      },
      "source": [
        "## Path"
      ]
    },
    {
      "cell_type": "code",
      "metadata": {
        "id": "dh5P2YE9xvsi"
      },
      "source": [
        "from os import path as osp\n",
        "\n",
        "\n",
        "PATH_STORAGE = osp.join('ods', 'soc')  # arbitrary subpath in Google Drive (if any)\n",
        "if 'PATH_DRIVE' in locals():\n",
        "    PREFIX_DRIVE = osp.join(osp.basename(PATH_DRIVE), 'MyDrive', PATH_STORAGE)\n",
        "else:\n",
        "    PREFIX_DRIVE = ''\n",
        "\n",
        "PATH_TEMP = osp.join('/', 'content', 'temp')\n",
        "PATH_INPUT = osp.join('/', 'content', PREFIX_DRIVE, 'input')\n",
        "PATH_OUTPUT = osp.join('/', 'content', PREFIX_DRIVE, 'output')\n",
        "PATH_MODELS = osp.join('/', 'content', PREFIX_DRIVE, 'models')\n",
        "PATH_DATASET = osp.join('/', 'content', PREFIX_DRIVE, 'dataset')\n",
        "PATH_RESOURCES = osp.join('/', 'content', 'resources')\n",
        "\n",
        "# FILE_SHAPEFILE = osp.join(PATH_RESOURCES, 'clustering', 'cutline',\n",
        "#                           'Start_Ice_Map_UTMz40WGS84f_r.shp')\n",
        "\n",
        "print('\\n'.join((PATH_STORAGE, PATH_TEMP, PATH_INPUT, PATH_OUTPUT, PATH_MODELS,\n",
        "                 PATH_DATASET, PATH_RESOURCES)))"
      ],
      "execution_count": null,
      "outputs": []
    },
    {
      "cell_type": "code",
      "metadata": {
        "id": "vgVxdDMvx_6_"
      },
      "source": [
        "import os\n",
        "from matplotlib import pyplot as plt\n",
        "\n",
        "\n",
        "def draw_one_row(*images, size=1024, output=None):\n",
        "    try:\n",
        "        size = size[:2]\n",
        "    except:\n",
        "        size = (size, size)\n",
        "    count = len(images)\n",
        "    figure, axes = plt.subplots(1, count, dpi=72,\n",
        "                                figsize=(size[0] / 72, size[1] / 72))\n",
        "    for i in range(count):\n",
        "        axes[i].imshow(images[i])\n",
        "    if output is not None:\n",
        "        try:\n",
        "            os.makedirs(osp.dirname(output), exist_ok=True)\n",
        "            plt.savefig(output)\n",
        "        except:\n",
        "            pass\n",
        "    plt.show()"
      ],
      "execution_count": null,
      "outputs": []
    },
    {
      "cell_type": "markdown",
      "metadata": {
        "id": "PejF8blPVJwg"
      },
      "source": [
        "<h2>Load the Dataset and split into folds</h2>"
      ]
    },
    {
      "cell_type": "markdown",
      "metadata": {
        "id": "PnkNZmXZVuLy"
      },
      "source": [
        "Delete corrupted images from dataset"
      ]
    },
    {
      "cell_type": "code",
      "metadata": {
        "id": "ufXglhdgNHqT"
      },
      "source": [
        "items_exclude_a = [\n",
        "    'S1B_EW_GRDM_1SDH_20200203T031613_20200203T031631_020099_0260A6_D03B.tiff',\n",
        "    'S1B_EW_GRDM_1SDH_20200215T031613_20200215T031630_020274_026647_9E25.tiff',\n",
        "    'S1B_EW_GRDM_1SDH_20200227T031613_20200227T031630_020449_026BE9_3282.tiff',\n",
        "    'S1B_EW_GRDM_1SDH_20200310T031613_20200310T031630_020624_027178_1A36.tiff',\n",
        "    'S1B_EW_GRDM_1SDH_20200322T031613_20200322T031631_020799_027702_664C.tiff',\n",
        "    'S1B_EW_GRDM_1SDH_20200521T031615_20200521T031633_021674_029249_923C.tiff',\n",
        "]\n",
        "\n",
        "items_exclude_b = [\n",
        "    'S1A_EW_GRDM_1SDH_20191117T031700_20191117T031800_029945_036ADD_32F2.tiff',\n",
        "    'S1A_EW_GRDM_1SDH_20191129T031659_20191129T031759_030120_0370EF_D07E.tiff',\n",
        "    'S1A_EW_GRDM_1SDH_20200104T031658_20200104T031758_030645_038306_DDA1.tiff',\n",
        "    'S1A_EW_GRDM_1SDH_20200328T031656_20200328T031756_031870_03ADB5_D992.tiff',\n",
        "    'S1A_EW_GRDM_1SDH_20200421T031657_20200421T031757_032220_03BA08_1F43.tiff',\n",
        "]\n",
        "\n",
        "items_exclude_c = [\n",
        "    'S1A_EW_GRDM_1SDH_20191211T031659_20191211T031759_030295_0376F4_BE3E.tiff',\n",
        "    'S1A_EW_GRDM_1SDH_20191223T031658_20191223T031758_030470_037CFD_AB38.tiff',\n",
        "    'S1A_EW_GRDM_1SDH_20200221T031656_20200221T031756_031345_039B6D_927B.tiff',\n",
        "    'S1A_EW_GRDM_1SDH_20200304T031656_20200304T031756_031520_03A17D_08EB.tiff',\n",
        "    'S1A_EW_GRDM_1SDH_20200316T031656_20200316T031756_031695_03A78C_D3A3.tiff',\n",
        "    'S1A_EW_GRDM_1SDH_20200409T031657_20200409T031757_032045_03B3E6_7A01.tiff',\n",
        "    'S1A_EW_GRDM_1SDH_20200503T031658_20200503T031758_032395_03C031_950B.tiff',\n",
        "]\n",
        "\n",
        "items_exclude_d = [\n",
        "    'S1A_EW_GRDM_1SDH_20191107T030034_20191107T030132_029799_0365BB_F7CF.tiff',\n",
        "    'S1B_EW_GRDM_1SDH_20200601T023525_20200601T023601_021834_02971A_B08C.tiff'\n",
        "]"
      ],
      "execution_count": null,
      "outputs": []
    },
    {
      "cell_type": "code",
      "metadata": {
        "id": "Pm2PPn3xa9GD"
      },
      "source": [
        "from random import sample\n",
        "\n",
        "\n",
        "NUM_SAMPLES = 6  # draw samples from train/valid datasets\n",
        "DATA_SPLIT = 0\n",
        "\n",
        "# Images/masks paths\n",
        "path_images_hh = osp.join(PATH_DATASET, 'images', 'hh')\n",
        "path_images_hv = osp.join(PATH_DATASET, 'images', 'hv')\n",
        "path_masks = osp.join(PATH_DATASET, 'masks', '2-class')\n",
        "items = os.listdir(path_images_hh)\n",
        "\n",
        "# Train/valid items (images and masks)\n",
        "items_cross = [item for item in sorted(os.listdir(path_masks))if item not in \n",
        "                 items_exclude_a + items_exclude_b + items_exclude_c +\n",
        "                 items_exclude_d]\n",
        "items_split = [{\n",
        "    'train': sorted(set(items_cross) - set(items_cross[i::5])),\n",
        "    'valid': sorted(items_cross[i::5])\n",
        "} for i in range(5)]"
      ],
      "execution_count": null,
      "outputs": []
    },
    {
      "cell_type": "code",
      "metadata": {
        "id": "247KMIF812FB"
      },
      "source": [
        "len(items)"
      ],
      "execution_count": null,
      "outputs": []
    },
    {
      "cell_type": "code",
      "metadata": {
        "id": "qMw6wtnk18WA"
      },
      "source": [
        "for i in range(len(items_split)):\n",
        "  print(len(items_split[i]['train']), '/', len(items_split[i]['valid']))"
      ],
      "execution_count": null,
      "outputs": []
    },
    {
      "cell_type": "markdown",
      "metadata": {
        "id": "4FYgrCC887Xs"
      },
      "source": [
        "# W&B"
      ]
    },
    {
      "cell_type": "code",
      "metadata": {
        "id": "_hsx3qtV9DmK"
      },
      "source": [
        "%pip install --quiet --upgrade wandb"
      ],
      "execution_count": null,
      "outputs": []
    },
    {
      "cell_type": "markdown",
      "metadata": {
        "id": "TUjtypEuXMpP"
      },
      "source": [
        "Folds that was used for training baseline"
      ]
    },
    {
      "cell_type": "code",
      "metadata": {
        "id": "M5Sxl2vt9D_a"
      },
      "source": [
        "import os\n",
        "from getpass import getpass\n",
        "\n",
        "# ATTENTION: do not forget to set proper WandB token here (as string)\n",
        "if os.getenv('WANDB_API_KEY', None) is None:\n",
        "    os.environ['WANDB_API_KEY'] = getpass('https://wandb.ai/authorize :')\n",
        "\n",
        "try:\n",
        "    import wandb\n",
        "    wandb.login()\n",
        "except:\n",
        "    wandb = None"
      ],
      "execution_count": null,
      "outputs": []
    },
    {
      "cell_type": "code",
      "metadata": {
        "id": "mihfEAyQ9EDX"
      },
      "source": [
        "WANDB_ENTITY = 'maritimeai'\n",
        "WANDB_PROJECT = 'sea-ice-segmentation'\n",
        "WANDB_GROUP = 'Masks'\n",
        "WANDB_NAME = '/'.join(['Baseline', 'ONNX', 'Masks'])\n",
        "\n",
        "if 'wandb' in locals() and wandb is not None:\n",
        "    experiment = wandb.init(entity=WANDB_ENTITY,  # config=config,\n",
        "                            project=WANDB_PROJECT, group=WANDB_GROUP,\n",
        "                            name=WANDB_NAME, notes='Averaging masks')\n",
        "else:\n",
        "    experiment = None"
      ],
      "execution_count": null,
      "outputs": []
    },
    {
      "cell_type": "code",
      "metadata": {
        "id": "kgetKvrK94C_"
      },
      "source": [
        "from collections import  OrderedDict\n",
        "\n",
        "\n",
        "artifacts_baseline = [\n",
        "    'Baseline.Fold1.2021-09-13-09-15-27:latest',\n",
        "    'Baseline.Fold2.2021-10-12-07-54-33:latest',\n",
        "    'Baseline.Fold3.2021-09-17-10-37-26:latest',\n",
        "    'Baseline.Fold4.2021-09-24-22-44-24:latest',\n",
        "    'Baseline.Fold5.2021-09-23-09-45-27:latest'\n",
        "]\n",
        "\n",
        "artifacts_fpn = [\n",
        "    'Adam-2e-4.Fold1.2021-10-01-09-48-28:latest',\n",
        "    'Adam-2e-4.Fold2.2021-09-30-13-12-35:latest',\n",
        "    'Adam-2e-4.Fold3.2021-09-30-09-30-32:latest',\n",
        "    'Adam-2e-4.Fold4.2021-09-29-16-04-34:latest',\n",
        "    'Adam-2e-4.Fold5.2021-09-29-14-23-53:latest'\n",
        "]\n",
        "\n",
        "if experiment is not None:\n",
        "    artifacts = OrderedDict()\n",
        "    for artifact_name in artifacts_baseline + artifacts_fpn:\n",
        "        artifact = experiment.use_artifact(artifact_name)\n",
        "        artifacts[artifact_name] = {\n",
        "            'data': artifact,\n",
        "            'path': osp.abspath(artifact.download())\n",
        "        }\n",
        "\n",
        "    print(f\"Downloaded {len(artifacts)} artifacts\")\n"
      ],
      "execution_count": null,
      "outputs": []
    },
    {
      "cell_type": "code",
      "metadata": {
        "id": "7mchCi5Z8YEJ"
      },
      "source": [
        "try:\n",
        "    experiment.finish()\n",
        "except:\n",
        "    pass\n",
        "    \n",
        "artifacts"
      ],
      "execution_count": null,
      "outputs": []
    },
    {
      "cell_type": "code",
      "metadata": {
        "id": "nr6MVjxz-4rj"
      },
      "source": [
        "%ls artifacts/*"
      ],
      "execution_count": null,
      "outputs": []
    },
    {
      "cell_type": "code",
      "metadata": {
        "id": "SD4eHRCD-4wD"
      },
      "source": [
        "%pip install onnxruntime"
      ],
      "execution_count": null,
      "outputs": []
    },
    {
      "cell_type": "code",
      "metadata": {
        "id": "sr8AvV_Z_JdL"
      },
      "source": [
        "items_folds = [x for y in [i['valid'] for i in items_split] for x in y]\n",
        "len(items_folds)"
      ],
      "execution_count": null,
      "outputs": []
    },
    {
      "cell_type": "code",
      "metadata": {
        "id": "nq7DeQtEGNR-"
      },
      "source": [
        "from collections import ChainMap\n",
        "\n",
        "\n",
        "items_foldmap = dict(ChainMap(*[{x: i for x in v['valid']} for i, v in enumerate(items_split)]))\n",
        "items_images = {item: -1 if item not in items_folds else items_foldmap[item] for item in items}\n",
        "len(items_images)"
      ],
      "execution_count": null,
      "outputs": []
    },
    {
      "cell_type": "code",
      "metadata": {
        "id": "nhFGo2FrT4Pe"
      },
      "source": [
        "import onnxruntime\n",
        "\n",
        "index = 0\n",
        "models ={}\n",
        "\n",
        "for name, data in artifacts.items():\n",
        "    models[index] = {}\n",
        "    models[index]['session'] = onnxruntime.InferenceSession(osp.join(data['path'], 'model.onnx'))\n",
        "    index += 1"
      ],
      "execution_count": null,
      "outputs": []
    },
    {
      "cell_type": "code",
      "metadata": {
        "id": "1neKdTRKX45t"
      },
      "source": [
        "models"
      ],
      "execution_count": null,
      "outputs": []
    },
    {
      "cell_type": "markdown",
      "metadata": {
        "id": "pjquoguPVY1B"
      },
      "source": [
        "Averaging masks"
      ]
    },
    {
      "cell_type": "code",
      "metadata": {
        "id": "rUmlxNymYdG0"
      },
      "source": [
        "import cv2 as cv\n",
        "import numpy as np\n",
        "import gc\n",
        "\n",
        "\n",
        "NUM_CLASSES = 3\n",
        "SIZE = (1024, 1024)\n",
        "\n",
        "for item, i in items_images.items():\n",
        "    image_hh = cv.imread(osp.join(path_images_hh, item), cv.IMREAD_LOAD_GDAL)\n",
        "    image_hv = cv.imread(osp.join(path_images_hv, item), cv.IMREAD_LOAD_GDAL)\n",
        "    image = np.dstack((image_hv, image_hh, image_hv)) / np.float32(255)\n",
        "    mask_total = None\n",
        "    del image_hh, image_hv\n",
        "\n",
        "    for k in range(5):\n",
        "        session = models[k]['session']\n",
        "        batch = np.moveaxis(cv.resize(image, SIZE, cv.INTER_NEAREST), -1, 0)[None, ...]\n",
        "        mask = session.run(None, {session.get_inputs()[0].name: batch})[0][0] # (9200, 8600)1\n",
        "        num_classes = NUM_CLASSES\n",
        "        print(f\"Min = {mask.min()}, Max = {mask.max()}\" )\n",
        "        # mask = mask.argmax(0)\n",
        "        # mask = np.stack([(mask == m).astype('uint8') for m in range(num_classes)], axis=-1)  # (9200, 8600, 3)\n",
        "        if mask_total is None:\n",
        "            mask_total = np.zeros_like(mask)\n",
        "        if k == i:\n",
        "            # 7 fold weighted\n",
        "            mask_total += mask * 3\n",
        "        else:\n",
        "            mask_total += mask\n",
        "        del mask\n",
        "        gc.collect()\n",
        "    \n",
        "    if i >= 0:\n",
        "        mask_total = (mask_total / 7) #.round().astype(np.uint8)\n",
        "    else:\n",
        "        mask_total = (mask_total / 5) #.round().astype(np.uint8)\n",
        "    #mask_total = np.moveaxis(mask_total, 0, -1).argmax(-1).astype(np.uint8)\n",
        "    print(mask_total.shape)\n",
        "    mask_total = mask_total.argmax(0) #.astype(np.uint8)\n",
        "    draw_one_row(image, mask_total)"
      ],
      "execution_count": null,
      "outputs": []
    },
    {
      "cell_type": "code",
      "metadata": {
        "id": "WKg-6CZmRUfd"
      },
      "source": [
        ""
      ],
      "execution_count": null,
      "outputs": []
    }
  ]
}