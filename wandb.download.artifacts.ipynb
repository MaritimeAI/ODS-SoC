{
 "cells": [
  {
   "cell_type": "code",
   "execution_count": null,
   "metadata": {},
   "outputs": [],
   "source": [
    "experements = {\n",
    "    'DeepLabV3': ['Adam-2e-4.Fold5.2021-10-01-10-05-37',\n",
    "                  'Adam-2e-4.Fold4.2021-09-28-18-20-57',\n",
    "                  'Adam-2e-4.Fold3.2021-09-28-16-27-37',\n",
    "                  'Adam-2e-4.Fold2.2021-09-28-14-33-43',\n",
    "                  'Adam-2e-4.Fold1.2021-09-28-10-42-53']\n",
    "}"
   ]
  },
  {
   "cell_type": "code",
   "execution_count": null,
   "metadata": {},
   "outputs": [],
   "source": [
    "# !pip install wandb --upgrade"
   ]
  },
  {
   "cell_type": "code",
   "execution_count": null,
   "metadata": {},
   "outputs": [],
   "source": [
    "import wandb\n",
    "import os\n",
    "\n",
    "run = wandb.init()\n",
    "NAME_TEAM = 'maritimeai'\n",
    "NAME_PROJECT = 'sea-ice-segmentation'\n",
    "error_path = []\n",
    "\n",
    "for model, folds in experements.items():\n",
    "    # path_model = os.path.join('./artifacts', model)\n",
    "    path_model = os.path.join('./art', model)\n",
    "    os.makedirs(path_model, exist_ok=True)\n",
    "\n",
    "    for fold in folds:\n",
    "        path_fold = os.path.join(path_model, fold)\n",
    "        path_artifact = os.path.join(NAME_TEAM, NAME_PROJECT, f'{fold}:v0')\n",
    "        try:\n",
    "            artifact = run.use_artifact(path_artifact, type='model')\n",
    "            artifact_dir = artifact.download(root=path_fold)\n",
    "        except:\n",
    "            print(f'Not contain artifact: {path_artifact}')\n",
    "            error_path.append(path_artifact)\n",
    "            \n"
   ]
  }
 ],
 "metadata": {
  "interpreter": {
   "hash": "31f2aee4e71d21fbe5cf8b01ff0e069b9275f58929596ceb00d14d90e3e16cd6"
  },
  "kernelspec": {
   "display_name": "Python 3.8.10 64-bit",
   "language": "python",
   "name": "python3"
  },
  "language_info": {
   "codemirror_mode": {
    "name": "ipython",
    "version": 3
   },
   "file_extension": ".py",
   "mimetype": "text/x-python",
   "name": "python",
   "nbconvert_exporter": "python",
   "pygments_lexer": "ipython3",
   "version": "3.8.10"
  },
  "orig_nbformat": 4
 },
 "nbformat": 4,
 "nbformat_minor": 2
}
